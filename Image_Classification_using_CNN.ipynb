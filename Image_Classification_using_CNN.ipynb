{
  "cells": [
    {
      "cell_type": "markdown",
      "metadata": {
        "id": "s4Tvf-y3bEyA"
      },
      "source": [
        "**Importing of Modules**"
      ]
    },
    {
      "cell_type": "code",
      "execution_count": 48,
      "metadata": {
        "id": "V0lgOvczapAu"
      },
      "outputs": [],
      "source": [
        "import tensorflow as tf\n",
        "from tensorflow.keras import datasets,layers,models\n",
        "from tensorflow import keras\n",
        "import matplotlib.pyplot as plt\n",
        "import numpy as np"
      ]
    },
    {
      "cell_type": "code",
      "execution_count": 49,
      "metadata": {
        "id": "xjYrwiPcbKVq"
      },
      "outputs": [],
      "source": [
        "#loading up of data from the CIFAR10 dataset\n",
        "#here we will be considering the X_train and y_train datasets for training purposes.\n",
        "#Considering the X_test and y_test for testing purposes.\n",
        "(X_train,y_train),(X_test,y_test)=datasets.cifar10.load_data()\n"
      ]
    },
    {
      "cell_type": "code",
      "execution_count": 50,
      "metadata": {
        "colab": {
          "base_uri": "https://localhost:8080/"
        },
        "id": "2oWdVo8RbnYx",
        "outputId": "961f4535-72c7-4856-97de-5eeed441b01e"
      },
      "outputs": [
        {
          "output_type": "stream",
          "name": "stdout",
          "text": [
            "X_train datasets:\n",
            "$(50000, 32, 32, 3)\n"
          ]
        }
      ],
      "source": [
        "#size of X_train and y_train\n",
        "print(f'X_train datasets:\\n${X_train.shape}')\n",
        "#here first element defines the number of samples\n",
        "#the size of the image is 32*32 and there are 3 color channels(R,G,B)"
      ]
    },
    {
      "cell_type": "code",
      "execution_count": 51,
      "metadata": {
        "id": "oi4gMs5icEXa"
      },
      "outputs": [],
      "source": [
        "#resizing of 2d array into 1d array\n",
        "y_train=y_train.reshape(-1,)"
      ]
    },
    {
      "cell_type": "code",
      "execution_count": 52,
      "metadata": {
        "id": "sLlzkeA5c-uu"
      },
      "outputs": [],
      "source": [
        "classes=[\"airplane\",\"automobile\",\"bird\",\"cat\",\"deer\",\"dog\",\"frog\",\"horse\",\"ship\",\"truck\"]\n"
      ]
    },
    {
      "cell_type": "markdown",
      "metadata": {
        "id": "uziOHihrdxZs"
      },
      "source": [
        "**Displaying the Image from the above defined Dataset**"
      ]
    },
    {
      "cell_type": "code",
      "execution_count": 57,
      "metadata": {
        "colab": {
          "base_uri": "https://localhost:8080/",
          "height": 280
        },
        "id": "-qbXfNXUdJ2V",
        "outputId": "4eff0fbd-81db-4328-922f-52a292186e18"
      },
      "outputs": [
        {
          "output_type": "display_data",
          "data": {
            "text/plain": [
              "<Figure size 1080x288 with 1 Axes>"
            ],
            "image/png": "[encoded data removed]"
          },
          "metadata": {
            "needs_background": "light"
          }
        }
      ],
      "source": [
        "def plot_sample(X,y,index):\n",
        "  plt.figure(figsize=(15,4))\n",
        "  plt.imshow(X[index])\n",
        "  plt.xlabel(classes[y[index]])  \n",
        "\n",
        "plot_sample(X_train,y_train,1)  \n",
        "#it basically a truck image over here"
      ]
    },
    {
      "cell_type": "code",
      "execution_count": 58,
      "metadata": {
        "colab": {
          "base_uri": "https://localhost:8080/",
          "height": 280
        },
        "id": "NpC3cgd-darF",
        "outputId": "48a6eebf-5303-437a-b9da-09208e32ee55"
      },
      "outputs": [
        {
          "output_type": "display_data",
          "data": {
            "text/plain": [
              "<Figure size 1080x288 with 1 Axes>"
            ],
            "image/png": "[encoded data removed]"
          },
          "metadata": {
            "needs_background": "light"
          }
        }
      ],
      "source": [
        "plot_sample(X_train,y_train,3) "
      ]
    },
    {
      "cell_type": "markdown",
      "metadata": {
        "id": "6hTkIgjAd9pB"
      },
      "source": [
        "**Normalization of Values**"
      ]
    },
    {
      "cell_type": "code",
      "execution_count": 32,
      "metadata": {
        "id": "RuX1jO7Fd5Ar"
      },
      "outputs": [],
      "source": [
        "#normalization of X \n",
        "X_train=X_train/255\n",
        "x_test=y_test/255"
      ]
    },
    {
      "cell_type": "markdown",
      "source": [
        "**Building of ANN(Artificial Neural Network) Model**"
      ],
      "metadata": {
        "id": "dJAPFO_xkXUC"
      }
    },
    {
      "cell_type": "code",
      "execution_count": null,
      "metadata": {
        "colab": {
          "base_uri": "https://localhost:8080/"
        },
        "id": "4MzFMczseH8Q",
        "outputId": "46d2ea5b-b24e-4e4d-9d87-dd3857fde419"
      },
      "outputs": [
        {
          "output_type": "stream",
          "name": "stdout",
          "text": [
            "Epoch 1/3\n",
            "1563/1563 [==============================] - 166s 106ms/step - loss: 1.8067 - accuracy: 0.3571\n",
            "Epoch 2/3\n",
            "1563/1563 [==============================] - 137s 88ms/step - loss: 1.6221 - accuracy: 0.4275\n",
            "Epoch 3/3\n",
            "1416/1563 [==========================>...] - ETA: 11s - loss: 1.5385 - accuracy: 0.4576"
          ]
        }
      ],
      "source": [
        "ann=models.Sequential([\n",
        "    #flattening of the given layers\n",
        "    layers.Flatten(input_shape=(32,32,3)),\n",
        "    #now we consider 2 different hidden layers\n",
        "    layers.Dense(3000,activation='relu'),\n",
        "    layers.Dense(1000,activation='relu'),\n",
        "    layers.Dense(10,activation='sigmoid')\n",
        "])\n",
        "#compilation of given model\n",
        "ann.compile(optimizer='SGD',loss='sparse_categorical_crossentropy',\n",
        "            metrics=['accuracy'])\n",
        "ann.fit(X_train,y_train,epochs=3)"
      ]
    },
    {
      "cell_type": "markdown",
      "source": [
        "**Model Evaluation**"
      ],
      "metadata": {
        "id": "LyH3UUEskSHU"
      }
    },
    {
      "cell_type": "code",
      "execution_count": 18,
      "metadata": {
        "colab": {
          "base_uri": "https://localhost:8080/"
        },
        "id": "-JqrcP7bfG6v",
        "outputId": "12b48b29-39ec-43c4-d63f-971f4d32b759"
      },
      "outputs": [
        {
          "output_type": "stream",
          "name": "stdout",
          "text": [
            "313/313 [==============================] - 10s 31ms/step - loss: 161.0105 - accuracy: 0.4527\n"
          ]
        },
        {
          "output_type": "execute_result",
          "data": {
            "text/plain": [
              "[161.01046752929688, 0.4526999890804291]"
            ]
          },
          "metadata": {},
          "execution_count": 18
        }
      ],
      "source": [
        "#determines the accuracy of the given model\n",
        "ann.evaluate(X_test,y_test)\n",
        "# print(f'the accuracy of the model is {ann.evaluate(X_test,y_test)[1]*100}')"
      ]
    },
    {
      "cell_type": "markdown",
      "source": [
        "**Classification Report for ANN model**"
      ],
      "metadata": {
        "id": "2hmxh3-SkOY7"
      }
    },
    {
      "cell_type": "code",
      "execution_count": 33,
      "metadata": {
        "id": "4ein9S-SgmXr",
        "colab": {
          "base_uri": "https://localhost:8080/"
        },
        "outputId": "4e00e152-b87f-47dd-f3ac-ef3e27e90235"
      },
      "outputs": [
        {
          "output_type": "stream",
          "name": "stdout",
          "text": [
            "Classification Report:\n",
            "               precision    recall  f1-score   support\n",
            "\n",
            "           0       0.16      0.96      0.27      1000\n",
            "           1       0.30      0.25      0.27      1000\n",
            "           2       0.15      0.31      0.20      1000\n",
            "           3       0.22      0.20      0.21      1000\n",
            "           4       0.24      0.01      0.03      1000\n",
            "           5       0.00      0.00      0.00      1000\n",
            "           6       0.00      0.00      0.00      1000\n",
            "           7       0.00      0.00      0.00      1000\n",
            "           8       0.00      0.00      0.00      1000\n",
            "           9       0.00      0.00      0.00      1000\n",
            "\n",
            "    accuracy                           0.17     10000\n",
            "   macro avg       0.11      0.17      0.10     10000\n",
            "weighted avg       0.11      0.17      0.10     10000\n",
            "\n"
          ]
        },
        {
          "output_type": "stream",
          "name": "stderr",
          "text": [
            "/usr/local/lib/python3.7/dist-packages/sklearn/metrics/_classification.py:1318: UndefinedMetricWarning: Precision and F-score are ill-defined and being set to 0.0 in labels with no predicted samples. Use `zero_division` parameter to control this behavior.\n",
            "  _warn_prf(average, modifier, msg_start, len(result))\n",
            "/usr/local/lib/python3.7/dist-packages/sklearn/metrics/_classification.py:1318: UndefinedMetricWarning: Precision and F-score are ill-defined and being set to 0.0 in labels with no predicted samples. Use `zero_division` parameter to control this behavior.\n",
            "  _warn_prf(average, modifier, msg_start, len(result))\n",
            "/usr/local/lib/python3.7/dist-packages/sklearn/metrics/_classification.py:1318: UndefinedMetricWarning: Precision and F-score are ill-defined and being set to 0.0 in labels with no predicted samples. Use `zero_division` parameter to control this behavior.\n",
            "  _warn_prf(average, modifier, msg_start, len(result))\n"
          ]
        }
      ],
      "source": [
        "#performance of ann(aritificial Neural Network) is very less with an accuracy of \n",
        "#generation of classification report\n",
        "\n",
        "from sklearn.metrics import confusion_matrix,classification_report\n",
        "import numpy as np\n",
        "y_pred=ann.predict(X_test)\n",
        "y_pred_classes=[np.argmax(element) for element in y_pred]\n",
        "print(\"Classification Report:\\n\",classification_report(y_test,y_pred_classes))"
      ]
    },
    {
      "cell_type": "markdown",
      "source": [
        "****"
      ],
      "metadata": {
        "id": "FVhwtgkxoJqr"
      }
    },
    {
      "cell_type": "markdown",
      "source": [
        "**Building of CNN(Artificial Neural Network) Model**"
      ],
      "metadata": {
        "id": "zIfdmeM9oQMR"
      }
    },
    {
      "cell_type": "code",
      "source": [
        "#softmax is basically utilized to normalize the probability\n",
        "cnn=models.Sequential([\n",
        "    \n",
        "    layers.Conv2D(filters=32,kernel_size=(3,3),activation='relu',input_shape=(32,32,3)),\n",
        "    layers.MaxPooling2D((2,2)),\n",
        "\n",
        "    #another phase of convolution and pooling\n",
        "    layers.Conv2D(filters=32,kernel_size=(3,3),activation='relu',input_shape=(32,32,3)),\n",
        "    layers.MaxPooling2D((2,2)),\n",
        "    #flattening of the given layers\n",
        "    layers.Flatten(),\n",
        "    #now we consider 2 different hidden layers\n",
        "    layers.Dense(64,activation='relu'),\n",
        "    layers.Dense(10,activation='softmax')\n",
        "])\n",
        "\n",
        "#compilation of the given model\n",
        "cnn.compile(optimizer='adam',loss='sparse_categorical_crossentropy',metrics=['accuracy'])\n",
        "\n",
        "#fit the model\n",
        "cnn.fit(X_train,y_train,epochs=12)"
      ],
      "metadata": {
        "colab": {
          "base_uri": "https://localhost:8080/"
        },
        "id": "Qc804MMbnXnk",
        "outputId": "c7357fef-e053-4e60-b63b-16489b696375"
      },
      "execution_count": 22,
      "outputs": [
        {
          "metadata": {
            "tags": null
          },
          "name": "stdout",
          "output_type": "stream",
          "text": [
            "Epoch 1/12\n",
            "1563/1563 [==============================] - 64s 40ms/step - loss: 1.5287 - accuracy: 0.4463\n",
            "Epoch 2/12\n",
            "1563/1563 [==============================] - 60s 38ms/step - loss: 1.2177 - accuracy: 0.5683\n",
            "Epoch 3/12\n",
            "1563/1563 [==============================] - 59s 37ms/step - loss: 1.0809 - accuracy: 0.6226\n",
            "Epoch 4/12\n",
            "1563/1563 [==============================] - 58s 37ms/step - loss: 1.0058 - accuracy: 0.6500\n",
            "Epoch 5/12\n",
            "1563/1563 [==============================] - 59s 38ms/step - loss: 0.9505 - accuracy: 0.6696\n",
            "Epoch 6/12\n",
            "1563/1563 [==============================] - 60s 38ms/step - loss: 0.9066 - accuracy: 0.6838\n",
            "Epoch 7/12\n",
            "1563/1563 [==============================] - 60s 38ms/step - loss: 0.8697 - accuracy: 0.6993\n",
            "Epoch 8/12\n",
            "1563/1563 [==============================] - 59s 37ms/step - loss: 0.8315 - accuracy: 0.7098\n",
            "Epoch 9/12\n",
            "1563/1563 [==============================] - 58s 37ms/step - loss: 0.8023 - accuracy: 0.7231\n",
            "Epoch 10/12\n",
            "1563/1563 [==============================] - 58s 37ms/step - loss: 0.7768 - accuracy: 0.7287\n",
            "Epoch 11/12\n",
            "1563/1563 [==============================] - 58s 37ms/step - loss: 0.7513 - accuracy: 0.7392\n",
            "Epoch 12/12\n",
            "1563/1563 [==============================] - 58s 37ms/step - loss: 0.7310 - accuracy: 0.7455\n"
          ]
        },
        {
          "data": {
            "text/plain": [
              "<keras.callbacks.History at 0x7fdac1b79890>"
            ]
          },
          "execution_count": 22,
          "metadata": {},
          "output_type": "execute_result"
        }
      ]
    },
    {
      "cell_type": "markdown",
      "source": [
        "**Classification Report for CNN model**"
      ],
      "metadata": {
        "id": "PfLwHG561jmp"
      }
    },
    {
      "cell_type": "code",
      "source": [
        "from sklearn.metrics import confusion_matrix,classification_report\n",
        "import numpy as np\n",
        "y_pred=cnn.predict(X_test)\n",
        "y_pred_classes=[np.argmax(element) for element in y_pred]\n",
        "print(\"Classification Report:\\n\",classification_report(y_test,y_pred_classes))"
      ],
      "metadata": {
        "colab": {
          "base_uri": "https://localhost:8080/"
        },
        "id": "1HqepP5oxMxs",
        "outputId": "1be2bdf2-11dd-4c62-caef-176ee27e7c86"
      },
      "execution_count": 39,
      "outputs": [
        {
          "output_type": "stream",
          "name": "stdout",
          "text": [
            "Classification Report:\n",
            "               precision    recall  f1-score   support\n",
            "\n",
            "           0       0.37      0.78      0.50      1000\n",
            "           1       0.62      0.70      0.65      1000\n",
            "           2       0.73      0.12      0.21      1000\n",
            "           3       0.40      0.19      0.26      1000\n",
            "           4       0.56      0.08      0.14      1000\n",
            "           5       0.43      0.49      0.46      1000\n",
            "           6       0.76      0.30      0.43      1000\n",
            "           7       0.46      0.72      0.57      1000\n",
            "           8       0.42      0.69      0.52      1000\n",
            "           9       0.55      0.67      0.60      1000\n",
            "\n",
            "    accuracy                           0.47     10000\n",
            "   macro avg       0.53      0.47      0.43     10000\n",
            "weighted avg       0.53      0.47      0.43     10000\n",
            "\n"
          ]
        }
      ]
    },
    {
      "cell_type": "code",
      "source": [
        "#now from the above defined classification report of cnn and ann\n",
        "#we basically get to know that cnn model is generating a higher level of accuracy as compared to ann model"
      ],
      "metadata": {
        "id": "1QpuI3jb6VUm"
      },
      "execution_count": 59,
      "outputs": []
    },
    {
      "cell_type": "code",
      "source": [],
      "metadata": {
        "id": "_m7vI3NX6lVu"
      },
      "execution_count": null,
      "outputs": []
    }
  ],
  "metadata": {
    "colab": {
      "provenance": [],
      "collapsed_sections": []
    },
    "kernelspec": {
      "display_name": "Python 3",
      "name": "python3"
    },
    "language_info": {
      "name": "python"
    }
  },
  "nbformat": 4,
  "nbformat_minor": 0
}